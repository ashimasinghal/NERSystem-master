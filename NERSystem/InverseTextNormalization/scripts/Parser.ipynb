{
 "cells": [
  {
   "cell_type": "code",
   "execution_count": 29,
   "metadata": {},
   "outputs": [],
   "source": [
    "import re\n",
    "from sys import argv, exit\n",
    "\n",
    "\n",
    "def get_tagpairs(sentence):\n",
    "    sentence = sentence.strip()\n",
    "    wordlist = re.split(r'(?<=>)(.+?)(?=<)', sentence)\n",
    "    raw_taglist = wordlist[::4]\n",
    "\n",
    "    taglist = [x[1:-1] for x in raw_taglist]\n",
    "\n",
    "    phrases = map(str.strip, wordlist[1::4])\n",
    "    tagged = map(lambda x: tag_items(x[0], x[1]), zip(taglist, phrases))\n",
    "\n",
    "    return tagged\n",
    "\n",
    "\n",
    "def tag_items(tag, phrase):\n",
    "    HEADER = 'B-{}'.format(tag)\n",
    "    TRAILER = 'L-{}'.format(tag)\n",
    "    MIDDLE = 'I-{}'.format(tag)\n",
    "    SINGLE = 'U-{}'.format(tag)\n",
    "\n",
    "    words = [x.lower() for x in phrase.split()]\n",
    "\n",
    "    if tag == 'O':\n",
    "        return [[x, 'O'] for x in words]\n",
    "    \n",
    "    if len(words) == 0:\n",
    "        return [[x, 'O'] for x in words]\n",
    "    \n",
    "    if len(words) == 1:\n",
    "        return [[words[0], SINGLE], ]\n",
    "\n",
    "    if len(words) == 2:\n",
    "        return [[words[0], HEADER], [words[1], TRAILER]]\n",
    "\n",
    "    intermediaries = [[x, MIDDLE] for x in words[1:-1]]\n",
    "\n",
    "    result = []\n",
    "    result.extend([[words[0], HEADER], ])\n",
    "    result.extend(intermediaries)\n",
    "    result.extend([[words[-1], TRAILER], ])\n",
    "\n",
    "    return result\n",
    "\n"
   ]
  },
  {
   "cell_type": "code",
   "execution_count": 37,
   "metadata": {},
   "outputs": [],
   "source": [
    "file = \"../grammars/train.txt\"\n",
    "outfile = \"samples/train.bilou\""
   ]
  },
  {
   "cell_type": "code",
   "execution_count": 38,
   "metadata": {},
   "outputs": [],
   "source": [
    "with open(file) as f:\n",
    "        data = f.read()"
   ]
  },
  {
   "cell_type": "code",
   "execution_count": 39,
   "metadata": {},
   "outputs": [],
   "source": [
    "ldata = [x for x in data.split('\\n') if x]"
   ]
  },
  {
   "cell_type": "code",
   "execution_count": 40,
   "metadata": {},
   "outputs": [],
   "source": [
    "final = []\n",
    "for x in ldata:\n",
    "    if x[0] != \"<\":\n",
    "        continue\n",
    "    raw_processed = sum(get_tagpairs(x), [])\n",
    "    processed = [' '.join(x) for x in raw_processed]\n",
    "    final.append(processed)"
   ]
  },
  {
   "cell_type": "code",
   "execution_count": 41,
   "metadata": {},
   "outputs": [
    {
     "name": "stdout",
     "output_type": "stream",
     "text": [
      "['i O', 'want O', 'to O', 'go O', 'to O', '11 U-Addr-Building-Number', 'airport B-Addr-Street', 'road L-Addr-Street', '#3-700 U-Addr-UnitNo', 'singapore U-Addr-city']\n"
     ]
    }
   ],
   "source": [
    "print(final[0])"
   ]
  },
  {
   "cell_type": "code",
   "execution_count": 42,
   "metadata": {},
   "outputs": [],
   "source": [
    "DELIMITER = '\\n\\n-DOCSTART- O\\n\\n'\n",
    "final = ['\\n'.join(x) for x in final]\n",
    "\n",
    "final_output = DELIMITER[2:] + DELIMITER.join(final) + '\\n'\n",
    "\n",
    "with open(outfile, 'w') as f:\n",
    "    f.write(final_output)\n"
   ]
  },
  {
   "cell_type": "code",
   "execution_count": 43,
   "metadata": {},
   "outputs": [
    {
     "name": "stdout",
     "output_type": "stream",
     "text": [
      "/home/groot/InverseTextNormalization/scripts\n"
     ]
    }
   ],
   "source": [
    "!pwd"
   ]
  },
  {
   "cell_type": "code",
   "execution_count": null,
   "metadata": {},
   "outputs": [],
   "source": []
  }
 ],
 "metadata": {
  "environment": {
   "name": "pytorch-gpu.1-4.m46",
   "type": "gcloud",
   "uri": "gcr.io/deeplearning-platform-release/pytorch-gpu.1-4:m46"
  },
  "kernelspec": {
   "display_name": "Python 3",
   "language": "python",
   "name": "python3"
  },
  "language_info": {
   "codemirror_mode": {
    "name": "ipython",
    "version": 3
   },
   "file_extension": ".py",
   "mimetype": "text/x-python",
   "name": "python",
   "nbconvert_exporter": "python",
   "pygments_lexer": "ipython3",
   "version": "3.6.12"
  }
 },
 "nbformat": 4,
 "nbformat_minor": 4
}
