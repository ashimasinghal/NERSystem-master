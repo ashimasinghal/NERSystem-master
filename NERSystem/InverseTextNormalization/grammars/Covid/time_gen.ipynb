{
 "cells": [
  {
   "cell_type": "code",
   "execution_count": 1,
   "metadata": {},
   "outputs": [],
   "source": [
    "list1 = [\"first\",\"second\",\"third\",\"fourth\",\"fifth\",\"sixth\",\"seventh\",\"eighth\",\"ninth\",\"tenth\",\"eleventh\",\"twelveth\",\"thirteenth\",\"fourteenth\",\"fifteenth\",\"sixteenth\",\"seventeenth\",\"eighteenth\",\"nineteenth\",\"twentieth\",\"twenty first\", \"twenty second\", \"twenty third\", \"twenty fourth\", \"twenty fifth\", \"twenty sixth\",\"twenty seventh\", \"twenty eighth\", \"twenty ninth\", \"thirtieth\", \"thirty first\"]\n",
    "list2 = [\"january\", \"february\", \"march\", \"april\", \"may\", \"june\", \"july\", \"august\", \"september\", \"october\", \"november\", \"december\"]"
   ]
  },
  {
   "cell_type": "code",
   "execution_count": 7,
   "metadata": {},
   "outputs": [],
   "source": [
    "finalList = []\n",
    "for i in list2:\n",
    "    for j in list1:\n",
    "        finalList.append(j+\" \"+i)"
   ]
  },
  {
   "cell_type": "code",
   "execution_count": 8,
   "metadata": {},
   "outputs": [],
   "source": [
    "with open(\"date.txt\", 'w') as output:\n",
    "    for row in finalList:\n",
    "        output.write(str(row) + '\\n')"
   ]
  },
  {
   "cell_type": "code",
   "execution_count": null,
   "metadata": {},
   "outputs": [],
   "source": []
  }
 ],
 "metadata": {
  "kernelspec": {
   "display_name": "Python 3",
   "language": "python",
   "name": "python3"
  },
  "language_info": {
   "codemirror_mode": {
    "name": "ipython",
    "version": 3
   },
   "file_extension": ".py",
   "mimetype": "text/x-python",
   "name": "python",
   "nbconvert_exporter": "python",
   "pygments_lexer": "ipython3",
   "version": "3.8.5"
  }
 },
 "nbformat": 4,
 "nbformat_minor": 4
}
